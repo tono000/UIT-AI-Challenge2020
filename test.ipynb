{
  "nbformat": 4,
  "nbformat_minor": 0,
  "metadata": {
    "colab": {
      "name": "README.md",
      "provenance": [],
      "collapsed_sections": [],
      "authorship_tag": "ABX9TyOgwD4V2EPqWAv5pkX7dpiW",
      "include_colab_link": true
    },
    "kernelspec": {
      "name": "python3",
      "display_name": "Python 3"
    }
  },
  "cells": [
    {
      "cell_type": "markdown",
      "metadata": {
        "id": "view-in-github",
        "colab_type": "text"
      },
      "source": [
        "<a href=\"https://colab.research.google.com/github/tono000/UIT-AI-Challenge2020/blob/master/test.ipynb\" target=\"_parent\"><img src=\"https://colab.research.google.com/assets/colab-badge.svg\" alt=\"Open In Colab\"/></a>"
      ]
    },
    {
      "cell_type": "code",
      "metadata": {
        "id": "hoZBU-Sti5mI",
        "colab_type": "code",
        "colab": {}
      },
      "source": [
        "hello world"
      ],
      "execution_count": null,
      "outputs": []
    }
  ]
}