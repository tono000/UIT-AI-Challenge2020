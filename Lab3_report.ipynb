{
  "nbformat": 4,
  "nbformat_minor": 0,
  "metadata": {
    "colab": {
      "name": "Lab3_report",
      "provenance": [],
      "collapsed_sections": [
        "IoB5DZSUKmdT",
        "ujP1w0PfIp12"
      ],
      "authorship_tag": "ABX9TyPoP4O63ywojNj8gyeT55F9",
      "include_colab_link": true
    },
    "kernelspec": {
      "name": "python3",
      "display_name": "Python 3"
    }
  },
  "cells": [
    {
      "cell_type": "markdown",
      "metadata": {
        "id": "view-in-github",
        "colab_type": "text"
      },
      "source": [
        "<a href=\"https://colab.research.google.com/github/tono000/UIT-AI-Challenge2020/blob/master/Lab3_report.ipynb\" target=\"_parent\"><img src=\"https://colab.research.google.com/assets/colab-badge.svg\" alt=\"Open In Colab\"/></a>"
      ]
    },
    {
      "cell_type": "markdown",
      "metadata": {
        "id": "n2OqJ7P-FjVI",
        "colab_type": "text"
      },
      "source": [
        "#**Báo cáo Lab 3:CMU-UTS**\n",
        "(Hạng 3 Track 1: Multi-Class Multi-Movement Vehicle Counting)"
      ]
    },
    {
      "cell_type": "markdown",
      "metadata": {
        "id": "IoB5DZSUKmdT",
        "colab_type": "text"
      },
      "source": [
        "\n",
        "#Sơ lược: \n",
        "Mạng Zero-Virus (Zero-shot VehIcle Route Understanding System) là một mạng có thể ứng dụng được cảnh giao thông trong đời thực.\n",
        "\n",
        "**Điểm mới so với những phương pháp khác:** Mạng sử dụng trường 2D để mô hình hóa các tuyến đường đã được xác định sẵn để tính toán độ lân cận và sự đầy đủ của mỗi tuyến đường. Từ đó mà hệ thống không yêu cầu các tuyến tracklet của phương tiện phải được annotate sẵn, từ đó có khả năng áp dụng được trong nhiều trường hợp trong thực tế hơn.\n"
      ]
    },
    {
      "cell_type": "markdown",
      "metadata": {
        "id": "CLtZSQa6ZHP_",
        "colab_type": "text"
      },
      "source": [
        "![system overview](https://drive.google.com/uc?id=1dG3WkLOBu5Q8v7dS0Xfrva-eR7qXsYmL/)\n",
        "\n",
        "\n",
        "\n"
      ]
    },
    {
      "cell_type": "markdown",
      "metadata": {
        "id": "JOVhhqs_ZqB-",
        "colab_type": "text"
      },
      "source": [
        "![văn bản thay thế](https://drive.google.com/uc?export=view&id=1dG3WkLOBu5Q8v7dS0Xfrva-eR7qXsYmL)"
      ]
    },
    {
      "cell_type": "markdown",
      "metadata": {
        "id": "ujP1w0PfIp12",
        "colab_type": "text"
      },
      "source": [
        "#Phân tích hệ thống:\n"
      ]
    },
    {
      "cell_type": "markdown",
      "metadata": {
        "id": "AUHKjSuaMlEC",
        "colab_type": "text"
      },
      "source": [
        "##Quy trình hoạt động của hệ thống:\n",
        "Hệ thống sử dụng 2 thành phần chính để đếm:\n",
        ">Một trường 2D dùng để mô hình hóa các tuyến đường.\n",
        "\n",
        ">Quỹ đạo di chuyển của các đối tượng được lấy từ quá trình detection, tracking, segmentation.\n",
        "\n",
        "Từ 2 thành phần này kết hợp lại hệ thống sẽ hậu xử lý đếm được số lượng của mỗi tuyến đường."
      ]
    },
    {
      "cell_type": "markdown",
      "metadata": {
        "id": "jTrNNgUJMZSj",
        "colab_type": "text"
      },
      "source": [
        "##Chi tiết phương pháp gồm 2 giai đoạn: \n",
        " >Lấy được quỹ đạo di chuyển của đối tượng\n",
        "\n",
        ">Xác định chúng với trường mô hình hóa của những tuyến đường được xác định trước.\n",
        "\n",
        "\n"
      ]
    },
    {
      "cell_type": "markdown",
      "metadata": {
        "id": "CqMeQ0RoIs5U",
        "colab_type": "text"
      },
      "source": [
        "### Lấy quỹ đạo di chuyển của  đối tượng:\n",
        "Gồm 2 giai đoạn con:\n",
        "\n",
        ">Detection: kiến trúc: sử dụng mạng Mask R-CNN với mạng feature pyramid ResNext-101 làm backbone để detect đối tượng trong từng frame\n",
        "\n",
        " >Online Multi-Vehicle Tracking:sử dụng thuật toán từ một paper khác (paper này em chưa hiểu) để gán ID cho từng phương tiện một, từ ID đó có thể đưa ra các tracklet của một đối tượng"
      ]
    },
    {
      "cell_type": "markdown",
      "metadata": {
        "id": "winxLrLZQZNq",
        "colab_type": "text"
      },
      "source": [
        "###Xác định chúng với trường mô hình hóa của những tuyến đường được xác định trước và identify\n",
        "\n",
        ">Mô hình hóa tuyến đường: Mỗi tuyến đường Ri được mô tả là một đường polyline bao gồm n điểm. Trong đó mỗi điểm liền kề sẽ kết nối đường thẳng với nhau.\n",
        "Lưu ý: điểm đầu tiên và điểm cuối cùng phải ở ngoài vùng RoI (vùng đang xét).\n",
        "\n",
        ">Route identification: cho tracklet của một phương tiện và tập các tuyến đường (route), công việc cần biết là xác định xem liệu tracklet đó có thuộc về một trong những tuyến đường đó hay không và nếu có, nó là cái nào. Để làm được việc này, vì chúng ta không annotate các tracklet cho từng tuyến đường, nên cần một vài độ đo để xác định các tuyến đường đó.\n"
      ]
    },
    {
      "cell_type": "markdown",
      "metadata": {
        "id": "X1k2h-DPhhI4",
        "colab_type": "text"
      },
      "source": [
        "#Thí nghiệm\n",
        "##Cài đặt hệ thống\n",
        "\n",
        ">Sử dụng mô hình Mask R-CNN từ Facebook Detectron2 với cái trọng số pre-train trên bộ dữ liệu COCO. (*Chi tiết về cách cài đặt hệ thống đã có trên github của tác giả*)\n",
        "![](https://drive.google.com/uc?id=1MBQY3959A0emT6VJ_cx3h4gLWof_jF3C)"
      ]
    },
    {
      "cell_type": "markdown",
      "metadata": {
        "id": "Fj4xyg8nmg0o",
        "colab_type": "text"
      },
      "source": [
        "#Kết quả\n",
        "Top 1 cuộc thi khi sử dụng 50% bộ dữ liệu test\n",
        "Top 3 cuộc thi khi sử dụng 100% bộ dữ liệu test\n",
        "\n",
        "Theo tác giả, lí do cho sự xuống hạng này có vẻ không phải do mô hình bị overfit (vì mô hình có ít tham số) mà là do bộ dữ liệu test được chia không đều.\n",
        "\n",
        "Chi tiết kết quả được mô tả trong file github."
      ]
    }
  ]
}